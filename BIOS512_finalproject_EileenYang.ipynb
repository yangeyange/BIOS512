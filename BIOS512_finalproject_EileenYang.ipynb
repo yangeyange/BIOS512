{
 "cells": [
  {
   "cell_type": "markdown",
   "metadata": {},
   "source": [
    "# BIOS 512 Final Project\n",
    "## Eileen Yang (ejyang, PID:730170224)\n",
    "For my final project, I used a [Fivethirtyeight dataset on Halloween candy](https://github.com/fivethirtyeight/data/tree/master/candy-power-ranking) to explore the classifications, popularity, sugar content, and price of common Halloween candies and treats.\n",
    "My goals for the project were:\n",
    "* To get an idea of the types of candies typically given out on Halloween,\n",
    "* to find out if certain types of candy were more popular than others, and\n",
    "* to see if there were any associations between candy price and popularity and between candy sugar content and popularity."
   ]
  },
  {
   "cell_type": "markdown",
   "metadata": {},
   "source": [
    "## Getting Set Up\n",
    "First, I loaded the necessary packages and imported my dataset from Fivethirtyeight's github. I also took a quick look at the dataset using the head() function to see what variables I had to work with."
   ]
  },
  {
   "cell_type": "code",
   "execution_count": 1,
   "metadata": {},
   "outputs": [
    {
     "name": "stderr",
     "output_type": "stream",
     "text": [
      "Warning message:\n",
      "“replacing previous import ‘vctrs::data_frame’ by ‘tibble::data_frame’ when loading ‘dplyr’”\n",
      "── \u001b[1mAttaching packages\u001b[22m ─────────────────────────────────────── tidyverse 1.3.0 ──\n",
      "\n",
      "\u001b[32m✔\u001b[39m \u001b[34mggplot2\u001b[39m 3.3.2     \u001b[32m✔\u001b[39m \u001b[34mpurrr  \u001b[39m 0.3.4\n",
      "\u001b[32m✔\u001b[39m \u001b[34mtibble \u001b[39m 3.0.4     \u001b[32m✔\u001b[39m \u001b[34mdplyr  \u001b[39m 1.0.1\n",
      "\u001b[32m✔\u001b[39m \u001b[34mtidyr  \u001b[39m 1.1.1     \u001b[32m✔\u001b[39m \u001b[34mstringr\u001b[39m 1.4.0\n",
      "\u001b[32m✔\u001b[39m \u001b[34mreadr  \u001b[39m 1.3.1     \u001b[32m✔\u001b[39m \u001b[34mforcats\u001b[39m 0.5.0\n",
      "\n",
      "Warning message:\n",
      "“package ‘ggplot2’ was built under R version 4.0.1”\n",
      "Warning message:\n",
      "“package ‘tidyr’ was built under R version 4.0.2”\n",
      "Warning message:\n",
      "“package ‘dplyr’ was built under R version 4.0.2”\n",
      "── \u001b[1mConflicts\u001b[22m ────────────────────────────────────────── tidyverse_conflicts() ──\n",
      "\u001b[31m✖\u001b[39m \u001b[34mdplyr\u001b[39m::\u001b[32mfilter()\u001b[39m masks \u001b[34mstats\u001b[39m::filter()\n",
      "\u001b[31m✖\u001b[39m \u001b[34mdplyr\u001b[39m::\u001b[32mlag()\u001b[39m    masks \u001b[34mstats\u001b[39m::lag()\n",
      "\n",
      "\n",
      "Attaching package: ‘reshape2’\n",
      "\n",
      "\n",
      "The following object is masked from ‘package:tidyr’:\n",
      "\n",
      "    smiths\n",
      "\n",
      "\n",
      "Updating HTML index of packages in '.Library'\n",
      "\n",
      "Making 'packages.html' ...\n",
      " done\n",
      "\n"
     ]
    }
   ],
   "source": [
    "library(\"tidyverse\")\n",
    "library(\"forcats\")\n",
    "library(\"stringr\")\n",
    "library(\"reshape2\")\n",
    "install.packages(\"ggthemes\")\n",
    "library(\"ggthemes\")\n",
    "library(\"RColorBrewer\")"
   ]
  },
  {
   "cell_type": "code",
   "execution_count": 2,
   "metadata": {},
   "outputs": [
    {
     "data": {
      "text/html": [
       "<table>\n",
       "<caption>A data.frame: 6 × 13</caption>\n",
       "<thead>\n",
       "\t<tr><th></th><th scope=col>competitorname</th><th scope=col>chocolate</th><th scope=col>fruity</th><th scope=col>caramel</th><th scope=col>peanutyalmondy</th><th scope=col>nougat</th><th scope=col>crispedricewafer</th><th scope=col>hard</th><th scope=col>bar</th><th scope=col>pluribus</th><th scope=col>sugarpercent</th><th scope=col>pricepercent</th><th scope=col>winpercent</th></tr>\n",
       "\t<tr><th></th><th scope=col>&lt;chr&gt;</th><th scope=col>&lt;int&gt;</th><th scope=col>&lt;int&gt;</th><th scope=col>&lt;int&gt;</th><th scope=col>&lt;int&gt;</th><th scope=col>&lt;int&gt;</th><th scope=col>&lt;int&gt;</th><th scope=col>&lt;int&gt;</th><th scope=col>&lt;int&gt;</th><th scope=col>&lt;int&gt;</th><th scope=col>&lt;dbl&gt;</th><th scope=col>&lt;dbl&gt;</th><th scope=col>&lt;dbl&gt;</th></tr>\n",
       "</thead>\n",
       "<tbody>\n",
       "\t<tr><th scope=row>1</th><td>100 Grand   </td><td>1</td><td>0</td><td>1</td><td>0</td><td>0</td><td>1</td><td>0</td><td>1</td><td>0</td><td>0.732</td><td>0.860</td><td>66.97173</td></tr>\n",
       "\t<tr><th scope=row>2</th><td>3 Musketeers</td><td>1</td><td>0</td><td>0</td><td>0</td><td>1</td><td>0</td><td>0</td><td>1</td><td>0</td><td>0.604</td><td>0.511</td><td>67.60294</td></tr>\n",
       "\t<tr><th scope=row>3</th><td>One dime    </td><td>0</td><td>0</td><td>0</td><td>0</td><td>0</td><td>0</td><td>0</td><td>0</td><td>0</td><td>0.011</td><td>0.116</td><td>32.26109</td></tr>\n",
       "\t<tr><th scope=row>4</th><td>One quarter </td><td>0</td><td>0</td><td>0</td><td>0</td><td>0</td><td>0</td><td>0</td><td>0</td><td>0</td><td>0.011</td><td>0.511</td><td>46.11650</td></tr>\n",
       "\t<tr><th scope=row>5</th><td>Air Heads   </td><td>0</td><td>1</td><td>0</td><td>0</td><td>0</td><td>0</td><td>0</td><td>0</td><td>0</td><td>0.906</td><td>0.511</td><td>52.34146</td></tr>\n",
       "\t<tr><th scope=row>6</th><td>Almond Joy  </td><td>1</td><td>0</td><td>0</td><td>1</td><td>0</td><td>0</td><td>0</td><td>1</td><td>0</td><td>0.465</td><td>0.767</td><td>50.34755</td></tr>\n",
       "</tbody>\n",
       "</table>\n"
      ],
      "text/latex": [
       "A data.frame: 6 × 13\n",
       "\\begin{tabular}{r|lllllllllllll}\n",
       "  & competitorname & chocolate & fruity & caramel & peanutyalmondy & nougat & crispedricewafer & hard & bar & pluribus & sugarpercent & pricepercent & winpercent\\\\\n",
       "  & <chr> & <int> & <int> & <int> & <int> & <int> & <int> & <int> & <int> & <int> & <dbl> & <dbl> & <dbl>\\\\\n",
       "\\hline\n",
       "\t1 & 100 Grand    & 1 & 0 & 1 & 0 & 0 & 1 & 0 & 1 & 0 & 0.732 & 0.860 & 66.97173\\\\\n",
       "\t2 & 3 Musketeers & 1 & 0 & 0 & 0 & 1 & 0 & 0 & 1 & 0 & 0.604 & 0.511 & 67.60294\\\\\n",
       "\t3 & One dime     & 0 & 0 & 0 & 0 & 0 & 0 & 0 & 0 & 0 & 0.011 & 0.116 & 32.26109\\\\\n",
       "\t4 & One quarter  & 0 & 0 & 0 & 0 & 0 & 0 & 0 & 0 & 0 & 0.011 & 0.511 & 46.11650\\\\\n",
       "\t5 & Air Heads    & 0 & 1 & 0 & 0 & 0 & 0 & 0 & 0 & 0 & 0.906 & 0.511 & 52.34146\\\\\n",
       "\t6 & Almond Joy   & 1 & 0 & 0 & 1 & 0 & 0 & 0 & 1 & 0 & 0.465 & 0.767 & 50.34755\\\\\n",
       "\\end{tabular}\n"
      ],
      "text/markdown": [
       "\n",
       "A data.frame: 6 × 13\n",
       "\n",
       "| <!--/--> | competitorname &lt;chr&gt; | chocolate &lt;int&gt; | fruity &lt;int&gt; | caramel &lt;int&gt; | peanutyalmondy &lt;int&gt; | nougat &lt;int&gt; | crispedricewafer &lt;int&gt; | hard &lt;int&gt; | bar &lt;int&gt; | pluribus &lt;int&gt; | sugarpercent &lt;dbl&gt; | pricepercent &lt;dbl&gt; | winpercent &lt;dbl&gt; |\n",
       "|---|---|---|---|---|---|---|---|---|---|---|---|---|---|\n",
       "| 1 | 100 Grand    | 1 | 0 | 1 | 0 | 0 | 1 | 0 | 1 | 0 | 0.732 | 0.860 | 66.97173 |\n",
       "| 2 | 3 Musketeers | 1 | 0 | 0 | 0 | 1 | 0 | 0 | 1 | 0 | 0.604 | 0.511 | 67.60294 |\n",
       "| 3 | One dime     | 0 | 0 | 0 | 0 | 0 | 0 | 0 | 0 | 0 | 0.011 | 0.116 | 32.26109 |\n",
       "| 4 | One quarter  | 0 | 0 | 0 | 0 | 0 | 0 | 0 | 0 | 0 | 0.011 | 0.511 | 46.11650 |\n",
       "| 5 | Air Heads    | 0 | 1 | 0 | 0 | 0 | 0 | 0 | 0 | 0 | 0.906 | 0.511 | 52.34146 |\n",
       "| 6 | Almond Joy   | 1 | 0 | 0 | 1 | 0 | 0 | 0 | 1 | 0 | 0.465 | 0.767 | 50.34755 |\n",
       "\n"
      ],
      "text/plain": [
       "  competitorname chocolate fruity caramel peanutyalmondy nougat\n",
       "1 100 Grand      1         0      1       0              0     \n",
       "2 3 Musketeers   1         0      0       0              1     \n",
       "3 One dime       0         0      0       0              0     \n",
       "4 One quarter    0         0      0       0              0     \n",
       "5 Air Heads      0         1      0       0              0     \n",
       "6 Almond Joy     1         0      0       1              0     \n",
       "  crispedricewafer hard bar pluribus sugarpercent pricepercent winpercent\n",
       "1 1                0    1   0        0.732        0.860        66.97173  \n",
       "2 0                0    1   0        0.604        0.511        67.60294  \n",
       "3 0                0    0   0        0.011        0.116        32.26109  \n",
       "4 0                0    0   0        0.011        0.511        46.11650  \n",
       "5 0                0    0   0        0.906        0.511        52.34146  \n",
       "6 0                0    1   0        0.465        0.767        50.34755  "
      ]
     },
     "metadata": {},
     "output_type": "display_data"
    }
   ],
   "source": [
    "df = read.csv(\"https://raw.githubusercontent.com/fivethirtyeight/data/master/candy-power-ranking/candy-data.csv\")\n",
    "head(df)"
   ]
  },
  {
   "cell_type": "markdown",
   "metadata": {},
   "source": [
    "Note that the variables \"sugarpercent\", \"pricepercent\", and \"winpercent\" represent sugar content, price, and popularity of each treat relative to the other treats. "
   ]
  },
  {
   "cell_type": "markdown",
   "metadata": {},
   "source": [
    "## Classifying by Candy Types\n",
    "### _Chocolate vs. Fruity_"
   ]
  },
  {
   "cell_type": "code",
   "execution_count": 3,
   "metadata": {},
   "outputs": [
    {
     "data": {
      "text/html": [
       "<table>\n",
       "<caption>A data.frame: 6 × 12</caption>\n",
       "<thead>\n",
       "\t<tr><th></th><th scope=col>competitorname</th><th scope=col>type</th><th scope=col>caramel</th><th scope=col>peanutyalmondy</th><th scope=col>nougat</th><th scope=col>crispedricewafer</th><th scope=col>hard</th><th scope=col>bar</th><th scope=col>pluribus</th><th scope=col>sugarpercent</th><th scope=col>pricepercent</th><th scope=col>winpercent</th></tr>\n",
       "\t<tr><th></th><th scope=col>&lt;chr&gt;</th><th scope=col>&lt;fct&gt;</th><th scope=col>&lt;int&gt;</th><th scope=col>&lt;int&gt;</th><th scope=col>&lt;int&gt;</th><th scope=col>&lt;int&gt;</th><th scope=col>&lt;int&gt;</th><th scope=col>&lt;int&gt;</th><th scope=col>&lt;int&gt;</th><th scope=col>&lt;dbl&gt;</th><th scope=col>&lt;dbl&gt;</th><th scope=col>&lt;dbl&gt;</th></tr>\n",
       "</thead>\n",
       "<tbody>\n",
       "\t<tr><th scope=row>1</th><td>100 Grand   </td><td>Chocolate </td><td>1</td><td>0</td><td>0</td><td>1</td><td>0</td><td>1</td><td>0</td><td>0.732</td><td>0.860</td><td>66.97173</td></tr>\n",
       "\t<tr><th scope=row>2</th><td>3 Musketeers</td><td>Chocolate </td><td>0</td><td>0</td><td>1</td><td>0</td><td>0</td><td>1</td><td>0</td><td>0.604</td><td>0.511</td><td>67.60294</td></tr>\n",
       "\t<tr><th scope=row>3</th><td>One dime    </td><td>Other     </td><td>0</td><td>0</td><td>0</td><td>0</td><td>0</td><td>0</td><td>0</td><td>0.011</td><td>0.116</td><td>32.26109</td></tr>\n",
       "\t<tr><th scope=row>4</th><td>One quarter </td><td>Other     </td><td>0</td><td>0</td><td>0</td><td>0</td><td>0</td><td>0</td><td>0</td><td>0.011</td><td>0.511</td><td>46.11650</td></tr>\n",
       "\t<tr><th scope=row>5</th><td>Air Heads   </td><td> Fruity   </td><td>0</td><td>0</td><td>0</td><td>0</td><td>0</td><td>0</td><td>0</td><td>0.906</td><td>0.511</td><td>52.34146</td></tr>\n",
       "\t<tr><th scope=row>6</th><td>Almond Joy  </td><td>Chocolate </td><td>0</td><td>1</td><td>0</td><td>0</td><td>0</td><td>1</td><td>0</td><td>0.465</td><td>0.767</td><td>50.34755</td></tr>\n",
       "</tbody>\n",
       "</table>\n"
      ],
      "text/latex": [
       "A data.frame: 6 × 12\n",
       "\\begin{tabular}{r|llllllllllll}\n",
       "  & competitorname & type & caramel & peanutyalmondy & nougat & crispedricewafer & hard & bar & pluribus & sugarpercent & pricepercent & winpercent\\\\\n",
       "  & <chr> & <fct> & <int> & <int> & <int> & <int> & <int> & <int> & <int> & <dbl> & <dbl> & <dbl>\\\\\n",
       "\\hline\n",
       "\t1 & 100 Grand    & Chocolate  & 1 & 0 & 0 & 1 & 0 & 1 & 0 & 0.732 & 0.860 & 66.97173\\\\\n",
       "\t2 & 3 Musketeers & Chocolate  & 0 & 0 & 1 & 0 & 0 & 1 & 0 & 0.604 & 0.511 & 67.60294\\\\\n",
       "\t3 & One dime     & Other      & 0 & 0 & 0 & 0 & 0 & 0 & 0 & 0.011 & 0.116 & 32.26109\\\\\n",
       "\t4 & One quarter  & Other      & 0 & 0 & 0 & 0 & 0 & 0 & 0 & 0.011 & 0.511 & 46.11650\\\\\n",
       "\t5 & Air Heads    &  Fruity    & 0 & 0 & 0 & 0 & 0 & 0 & 0 & 0.906 & 0.511 & 52.34146\\\\\n",
       "\t6 & Almond Joy   & Chocolate  & 0 & 1 & 0 & 0 & 0 & 1 & 0 & 0.465 & 0.767 & 50.34755\\\\\n",
       "\\end{tabular}\n"
      ],
      "text/markdown": [
       "\n",
       "A data.frame: 6 × 12\n",
       "\n",
       "| <!--/--> | competitorname &lt;chr&gt; | type &lt;fct&gt; | caramel &lt;int&gt; | peanutyalmondy &lt;int&gt; | nougat &lt;int&gt; | crispedricewafer &lt;int&gt; | hard &lt;int&gt; | bar &lt;int&gt; | pluribus &lt;int&gt; | sugarpercent &lt;dbl&gt; | pricepercent &lt;dbl&gt; | winpercent &lt;dbl&gt; |\n",
       "|---|---|---|---|---|---|---|---|---|---|---|---|---|\n",
       "| 1 | 100 Grand    | Chocolate  | 1 | 0 | 0 | 1 | 0 | 1 | 0 | 0.732 | 0.860 | 66.97173 |\n",
       "| 2 | 3 Musketeers | Chocolate  | 0 | 0 | 1 | 0 | 0 | 1 | 0 | 0.604 | 0.511 | 67.60294 |\n",
       "| 3 | One dime     | Other      | 0 | 0 | 0 | 0 | 0 | 0 | 0 | 0.011 | 0.116 | 32.26109 |\n",
       "| 4 | One quarter  | Other      | 0 | 0 | 0 | 0 | 0 | 0 | 0 | 0.011 | 0.511 | 46.11650 |\n",
       "| 5 | Air Heads    |  Fruity    | 0 | 0 | 0 | 0 | 0 | 0 | 0 | 0.906 | 0.511 | 52.34146 |\n",
       "| 6 | Almond Joy   | Chocolate  | 0 | 1 | 0 | 0 | 0 | 1 | 0 | 0.465 | 0.767 | 50.34755 |\n",
       "\n"
      ],
      "text/plain": [
       "  competitorname type       caramel peanutyalmondy nougat crispedricewafer hard\n",
       "1 100 Grand      Chocolate  1       0              0      1                0   \n",
       "2 3 Musketeers   Chocolate  0       0              1      0                0   \n",
       "3 One dime       Other      0       0              0      0                0   \n",
       "4 One quarter    Other      0       0              0      0                0   \n",
       "5 Air Heads       Fruity    0       0              0      0                0   \n",
       "6 Almond Joy     Chocolate  0       1              0      0                0   \n",
       "  bar pluribus sugarpercent pricepercent winpercent\n",
       "1 1   0        0.732        0.860        66.97173  \n",
       "2 1   0        0.604        0.511        67.60294  \n",
       "3 0   0        0.011        0.116        32.26109  \n",
       "4 0   0        0.011        0.511        46.11650  \n",
       "5 0   0        0.906        0.511        52.34146  \n",
       "6 1   0        0.465        0.767        50.34755  "
      ]
     },
     "metadata": {},
     "output_type": "display_data"
    },
    {
     "data": {
      "text/html": [
       "<style>\n",
       ".dl-inline {width: auto; margin:0; padding: 0}\n",
       ".dl-inline>dt, .dl-inline>dd {float: none; width: auto; display: inline-block}\n",
       ".dl-inline>dt::after {content: \":\\0020\"; padding-right: .5ex}\n",
       ".dl-inline>dt:not(:first-of-type) {padding-left: .5ex}\n",
       "</style><dl class=dl-inline><dt>Other</dt><dd>12</dd><dt> Fruity</dt><dd>37</dd><dt>Chocolate </dt><dd>36</dd></dl>\n"
      ],
      "text/latex": [
       "\\begin{description*}\n",
       "\\item[Other] 12\n",
       "\\item[ Fruity] 37\n",
       "\\item[Chocolate ] 36\n",
       "\\end{description*}\n"
      ],
      "text/markdown": [
       "Other\n",
       ":   12 Fruity\n",
       ":   37Chocolate \n",
       ":   36\n",
       "\n"
      ],
      "text/plain": [
       "     Other     Fruity Chocolate  \n",
       "        12         37         36 "
      ]
     },
     "metadata": {},
     "output_type": "display_data"
    }
   ],
   "source": [
    "#Getting a dataframe with type of candy (chocolate, fruity, or other) in a new column\n",
    "\n",
    "df_candy = df %>% \n",
    "            mutate(chocolate=recode(chocolate, \n",
    "                         `0`=\"\",\n",
    "                         `1`=\"Chocolate\")) %>%\n",
    "            mutate(fruity = recode(fruity, \n",
    "                         `0`=\"\",\n",
    "                         `1`=\"Fruity\")) %>%\n",
    "            unite(type, chocolate, fruity, sep = \" \", remove = FALSE)\n",
    "\n",
    "df_candy$type = factor(df_candy$type)\n",
    "\n",
    "df_candy2 = df_candy %>% \n",
    "                mutate(type = recode(type, \" \"=\"Other\",\"Chocolate Fruity\"=\"Other\")) %>%\n",
    "                select(-chocolate,-fruity)\n",
    "\n",
    "head(df_candy2)\n",
    "summary(df_candy2$type)"
   ]
  },
  {
   "cell_type": "markdown",
   "metadata": {},
   "source": [
    "Since the original dataset had many variables to classify each type of candy, I decided to simplify these classifications into three groups: Chocolate, Fruity, and Other (those in the \"Other\" group were either candies that were neither chocolate nor fruity, or were non-edible treats like dimes and quarters. Additionally, there was one candy (tootsie roll) that was both Chocolate and Fruity; to simplify things, I placed it in the \"Other\" category as well.\n",
    "By recoding the data using the method above, I found that out of the 86 treats in the dataset, there were 37 fruity candies, 36 chocolate candies, and 12 non-fruity and non-chocolate treats that were commonly given out to trick-or-treaters.\n",
    "### _More in-depth classification_"
   ]
  },
  {
   "cell_type": "code",
   "execution_count": 4,
   "metadata": {},
   "outputs": [
    {
     "data": {
      "text/html": [
       "<table>\n",
       "<caption>A data.frame: 6 × 5</caption>\n",
       "<thead>\n",
       "\t<tr><th></th><th scope=col>competitorname</th><th scope=col>type</th><th scope=col>sugarpercent</th><th scope=col>pricepercent</th><th scope=col>winpercent</th></tr>\n",
       "\t<tr><th></th><th scope=col>&lt;chr&gt;</th><th scope=col>&lt;fct&gt;</th><th scope=col>&lt;dbl&gt;</th><th scope=col>&lt;dbl&gt;</th><th scope=col>&lt;dbl&gt;</th></tr>\n",
       "</thead>\n",
       "<tbody>\n",
       "\t<tr><th scope=row>1</th><td>100 Grand   </td><td>ChocolateCaramelCrispy</td><td>0.732</td><td>0.860</td><td>66.97173</td></tr>\n",
       "\t<tr><th scope=row>2</th><td>3 Musketeers</td><td>ChocolateNougat       </td><td>0.604</td><td>0.511</td><td>67.60294</td></tr>\n",
       "\t<tr><th scope=row>3</th><td>One dime    </td><td>Unclassified          </td><td>0.011</td><td>0.116</td><td>32.26109</td></tr>\n",
       "\t<tr><th scope=row>4</th><td>One quarter </td><td>Unclassified          </td><td>0.011</td><td>0.511</td><td>46.11650</td></tr>\n",
       "\t<tr><th scope=row>5</th><td>Air Heads   </td><td>Fruity                </td><td>0.906</td><td>0.511</td><td>52.34146</td></tr>\n",
       "\t<tr><th scope=row>6</th><td>Almond Joy  </td><td>ChocolateNutty        </td><td>0.465</td><td>0.767</td><td>50.34755</td></tr>\n",
       "</tbody>\n",
       "</table>\n"
      ],
      "text/latex": [
       "A data.frame: 6 × 5\n",
       "\\begin{tabular}{r|lllll}\n",
       "  & competitorname & type & sugarpercent & pricepercent & winpercent\\\\\n",
       "  & <chr> & <fct> & <dbl> & <dbl> & <dbl>\\\\\n",
       "\\hline\n",
       "\t1 & 100 Grand    & ChocolateCaramelCrispy & 0.732 & 0.860 & 66.97173\\\\\n",
       "\t2 & 3 Musketeers & ChocolateNougat        & 0.604 & 0.511 & 67.60294\\\\\n",
       "\t3 & One dime     & Unclassified           & 0.011 & 0.116 & 32.26109\\\\\n",
       "\t4 & One quarter  & Unclassified           & 0.011 & 0.511 & 46.11650\\\\\n",
       "\t5 & Air Heads    & Fruity                 & 0.906 & 0.511 & 52.34146\\\\\n",
       "\t6 & Almond Joy   & ChocolateNutty         & 0.465 & 0.767 & 50.34755\\\\\n",
       "\\end{tabular}\n"
      ],
      "text/markdown": [
       "\n",
       "A data.frame: 6 × 5\n",
       "\n",
       "| <!--/--> | competitorname &lt;chr&gt; | type &lt;fct&gt; | sugarpercent &lt;dbl&gt; | pricepercent &lt;dbl&gt; | winpercent &lt;dbl&gt; |\n",
       "|---|---|---|---|---|---|\n",
       "| 1 | 100 Grand    | ChocolateCaramelCrispy | 0.732 | 0.860 | 66.97173 |\n",
       "| 2 | 3 Musketeers | ChocolateNougat        | 0.604 | 0.511 | 67.60294 |\n",
       "| 3 | One dime     | Unclassified           | 0.011 | 0.116 | 32.26109 |\n",
       "| 4 | One quarter  | Unclassified           | 0.011 | 0.511 | 46.11650 |\n",
       "| 5 | Air Heads    | Fruity                 | 0.906 | 0.511 | 52.34146 |\n",
       "| 6 | Almond Joy   | ChocolateNutty         | 0.465 | 0.767 | 50.34755 |\n",
       "\n"
      ],
      "text/plain": [
       "  competitorname type                   sugarpercent pricepercent winpercent\n",
       "1 100 Grand      ChocolateCaramelCrispy 0.732        0.860        66.97173  \n",
       "2 3 Musketeers   ChocolateNougat        0.604        0.511        67.60294  \n",
       "3 One dime       Unclassified           0.011        0.116        32.26109  \n",
       "4 One quarter    Unclassified           0.011        0.511        46.11650  \n",
       "5 Air Heads      Fruity                 0.906        0.511        52.34146  \n",
       "6 Almond Joy     ChocolateNutty         0.465        0.767        50.34755  "
      ]
     },
     "metadata": {},
     "output_type": "display_data"
    }
   ],
   "source": [
    "#Getting a dataframe with more specific type of candy \n",
    "\n",
    "df_all = df %>% \n",
    "            mutate(chocolate=recode(chocolate, \n",
    "                         `0`=\"\",\n",
    "                         `1`=\"Chocolate\")) %>%\n",
    "            mutate(fruity = recode(fruity, \n",
    "                         `0`=\"\",\n",
    "                         `1`=\"Fruity\")) %>%\n",
    "            mutate(caramel = recode(caramel, \n",
    "                         `0`=\"\",\n",
    "                         `1`=\"Caramel\")) %>%\n",
    "            mutate(peanutyalmondy = recode(peanutyalmondy, \n",
    "                         `0`=\"\",\n",
    "                         `1`=\"Nutty\")) %>%\n",
    "            mutate(nougat = recode(nougat, \n",
    "                         `0`=\"\",\n",
    "                         `1`=\"Nougat\")) %>%\n",
    "            mutate(crispedricewafer = recode(crispedricewafer, \n",
    "                         `0`=\"\",\n",
    "                         `1`=\"Crispy\")) %>%\n",
    "            unite(type, chocolate, fruity, caramel, peanutyalmondy, nougat, \n",
    "                  crispedricewafer, sep = \"\", remove = FALSE)\n",
    "\n",
    "df_all$type[df_all$type==\"\"] <- \"Unclassified\"\n",
    "df_all$type = factor(df_all$type)\n",
    "\n",
    "df_all2 = df_all %>% \n",
    "            select(-chocolate,-fruity, -caramel, -peanutyalmondy, -nougat,-crispedricewafer,-hard,-bar,-pluribus)\n",
    "\n",
    "head(df_all2)\n"
   ]
  },
  {
   "cell_type": "markdown",
   "metadata": {},
   "source": [
    "I also wanted to classify the types of candies based on the other categories provided in the dataset, like \"Caramel\" and \"Nougat\" to get a better idea of the most common types of candies. Thus, I created a dataset that classified each candy based on all of their features. For example, in this new dataset, a chocolate like Almond Joy would be classified as \"ChocolateNutty\". Note that the \"Unclassified\" group contained all of the treats that didn't fall into any of the other categories."
   ]
  },
  {
   "cell_type": "markdown",
   "metadata": {},
   "source": [
    "## Visualizing the Classifications of Candy\n",
    "### _Fruity vs. Chocolate_"
   ]
  },
  {
   "cell_type": "code",
   "execution_count": 5,
   "metadata": {},
   "outputs": [
    {
     "data": {
      "image/png": "[encoded data removed]",
      "text/plain": [
       "plot without title"
      ]
     },
     "metadata": {
      "image/png": {
       "height": 450,
       "width": 600
      }
     },
     "output_type": "display_data"
    }
   ],
   "source": [
    "#Visualizing the kinds of candy/treats in the dataset\n",
    "options(repr.plot.width = 4, repr.plot.height = 3, repr.plot.res = 300)\n",
    "\n",
    "df_all3 = df_all2 %>% \n",
    "        mutate(type_lumped = type %>% fct_lump(n=6) %>% fct_infreq() %>% fct_rev)\n",
    "\n",
    "p = ggplot(df_all3, aes(y=type_lumped)) + geom_bar() + theme_calc()\n",
    "p = p + ggtitle('Types of Halloween Treats')\n",
    "p = p + labs(x= 'Count', y= \"Type\")\n",
    "p = p + theme(axis.text = element_text(size=8, colour=\"gray3\"), \n",
    "              axis.title.y = element_text(colour = \"black\"), \n",
    "              axis.ticks = element_blank(),\n",
    "              plot.title = element_text(colour=\"black\", size=10),\n",
    "              panel.grid.minor=element_line(size=.1, colour=\"lightgray\"),\n",
    "              panel.grid.major=element_line(size=.2, colour=\"gray\"),\n",
    "              plot.margin = margin(5, 5, 5, 5, \"mm\"),\n",
    "              panel.background = element_rect(fill = \"white\",  size = 1, linetype = \"solid\"))\n",
    "p"
   ]
  },
  {
   "cell_type": "markdown",
   "metadata": {},
   "source": [
    "Using a bar graph, I visualized what kinds of candy were most common. Since many of the chocolate candies fell into multiple categories (ex. ChocolateNutty, ChocolateCrispy), the overarching \"Chocolate\" category was split up quite a bit."
   ]
  },
  {
   "cell_type": "markdown",
   "metadata": {},
   "source": [
    "### _Within Chocolate_"
   ]
  },
  {
   "cell_type": "code",
   "execution_count": 6,
   "metadata": {},
   "outputs": [
    {
     "data": {
      "image/png": "[encoded data removed]",
      "text/plain": [
       "plot without title"
      ]
     },
     "metadata": {
      "image/png": {
       "height": 450,
       "width": 600
      }
     },
     "output_type": "display_data"
    }
   ],
   "source": [
    "#Taking a closer look at the types of chocolate we have\n",
    "options(repr.plot.width = 4, repr.plot.height = 3, repr.plot.res = 300)\n",
    "\n",
    "df_choc =  df_all2 %>% \n",
    "        filter(str_detect(type, \"Chocolate\") == TRUE) %>%\n",
    "        mutate(type_lumped = type %>% fct_lump(n=10) %>% fct_infreq() %>% fct_rev)\n",
    "\n",
    "\n",
    "p2 = ggplot(df_choc, aes(y=type_lumped)) + geom_bar() + theme_calc()\n",
    "p2 = p2 + ggtitle('Types of Chocolate Treats')\n",
    "p2 = p2 + labs(x= 'Count', y= \"Type\")\n",
    "p2 = p2 + theme(axis.text = element_text(size=8, colour=\"gray3\"), \n",
    "              axis.title.y = element_text(colour = \"black\"), \n",
    "              axis.ticks = element_blank(),\n",
    "              plot.title = element_text(colour=\"black\", size=10),\n",
    "              panel.grid.minor=element_line(size=.1, colour=\"lightgray\"),\n",
    "              panel.grid.major=element_line(size=.2, colour=\"gray\"),\n",
    "              plot.margin = margin(5, 5, 5, 5, \"mm\"),\n",
    "              panel.background = element_rect(fill = \"white\",  size = 1, linetype = \"solid\"))\n",
    "p2\n"
   ]
  },
  {
   "cell_type": "markdown",
   "metadata": {},
   "source": [
    "Since the chocolate candies had been split up quite a bit due to chocolate candies having multiple classifications, I wanted to get a more insightful view what chocolate candies were most common. From the resulting bar graph, we see that purely Chocolate candies were most common, followed closely by Chocolate Nutty candies. These two top categories were then followed by the Chocolate Crispy and Chocolate Caramel categories."
   ]
  },
  {
   "cell_type": "markdown",
   "metadata": {},
   "source": [
    "## Visualizing Popularity, Sugar Content, and Price by Candy Type: Boxplots\n",
    "After sorting the candies into meaningful categories, I used a histograms and boxplots to see how popularity, sugar content, and prices differed between the candy categories. For these visualizations, I used the simple categorizations of \"Chocolate\",\"Fruity\", and \"Other\"."
   ]
  },
  {
   "cell_type": "code",
   "execution_count": 10,
   "metadata": {},
   "outputs": [
    {
     "ename": "ERROR",
     "evalue": "Error: `position` must be either a string or a Position object, not a function\n",
     "output_type": "error",
     "traceback": [
      "Error: `position` must be either a string or a Position object, not a function\nTraceback:\n",
      "1. geom_jitter(position = jitter, size = 1, alpha = 0.8)",
      "2. layer(data = data, mapping = mapping, stat = stat, geom = GeomPoint, \n .     position = position, show.legend = show.legend, inherit.aes = inherit.aes, \n .     params = list(na.rm = na.rm, ...))",
      "3. check_subclass(position, \"Position\", env = parent.frame())",
      "4. abort(glue(\"`{argname}` must be either a string or a {subclass} object, not {obj_desc(x)}\"))",
      "5. signal_abort(cnd)"
     ]
    }
   ],
   "source": [
    "options(repr.plot.res = 300, repr.plot.width = 8, repr.plot.height = 3)\n",
    "\n",
    "dfmelt <- melt(df_candy2, measure.vars=10:12)   \n",
    "\n",
    "p = ggplot(dfmelt, aes(x=type, y=value, color=type))\n",
    "p = p + geom_jitter(position=jitter, size=1, alpha=0.8) + geom_boxplot(alpha=0.5)\n",
    "p = p + ggtitle('Sugar Content, Price, and Popularity by Treat Type') \n",
    "\n",
    "\n",
    "var.labs <- c(\"Sugar Content\",\"Price\",\"Popularity\")\n",
    "names(var.labs) <- c(\"sugarpercent\",\"pricepercent\",\"winpercent\")\n",
    "\n",
    "p = p + labs(x=  '', y= '')\n",
    "p = p + theme(axis.text.x = element_text(hjust = 1, angle = 45)) + facet_wrap(~variable, scales=\"free_y\", labeller = labeller(variable = var.labs)) \n",
    "p = p + theme(axis.text = element_text(size=8, colour=\"gray3\"), \n",
    "              axis.title.y = element_text(colour = \"black\"), \n",
    "              axis.ticks = element_blank(),\n",
    "              plot.title = element_text(colour=\"black\", size=10),\n",
    "              panel.grid.minor=element_line(size=.1, colour=\"lightgray\"),\n",
    "              panel.grid.major=element_line(size=.2, colour=\"gray\"),\n",
    "              plot.margin = margin(5, 5, 5, 5, \"mm\"),\n",
    "              panel.background = element_rect(fill = \"white\",  size = 1, linetype = \"solid\"))\n",
    "p = p + scale_color_brewer(palette=\"Set2\")\n",
    "p"
   ]
  },
  {
   "cell_type": "markdown",
   "metadata": {},
   "source": [
    "From the above boxplots, we see that the distribution of sugar content among the three different categories of Halloween treats was roughly similar. For price, chocolate treats tended to have a higher price compared to fruity treats or \"other\" treats. For popularity, there is a clear difference in popularity between the three categories, with chocolate treats being the most popular, followed by fruity treats. \"Other\" treats were the least popular "
   ]
  },
  {
   "cell_type": "markdown",
   "metadata": {},
   "source": [
    "## Associations between Sugar Content/Price and Popularity\n",
    "The final part of my project was to visualize any potential associations between sugar content or price and popularity, which I did using scatterplots.\n",
    "### _Associations between Sugar Content and Popularity_"
   ]
  },
  {
   "cell_type": "code",
   "execution_count": null,
   "metadata": {},
   "outputs": [],
   "source": [
    "options(repr.plot.width = 5, repr.plot.height = 3, repr.plot.res = 300)\n",
    "\n",
    "p = ggplot(df_candy2, aes(x = sugarpercent, y = winpercent, color=type)) + \n",
    "    geom_point(alpha=0.7) + geom_smooth(method = \"lm\", se = FALSE, size=.5) \n",
    "\n",
    "p = p + ggtitle('Associations between Sugar Content and Popularity') \n",
    "\n",
    "p = p + labs(x= 'Sugar Content', y= 'Popularity')\n",
    "\n",
    "p = p + theme(axis.text = element_text(size=8, colour=\"gray3\"), \n",
    "              axis.title.y = element_text(colour = \"black\"), \n",
    "              axis.ticks = element_blank(),\n",
    "              plot.title = element_text(colour=\"black\", size=10),\n",
    "              panel.grid.minor=element_line(size=.1, colour=\"lightgray\"),\n",
    "              panel.grid.major=element_line(size=.2, colour=\"gray\"),\n",
    "              plot.margin = margin(5, 5, 5, 5, \"mm\"),\n",
    "              panel.background = element_rect(fill = \"white\",  size = 1, linetype = \"solid\"))\n",
    "\n",
    "p = p + scale_color_brewer(palette=\"Set2\")\n",
    "p"
   ]
  },
  {
   "cell_type": "markdown",
   "metadata": {},
   "source": [
    "From the above scatterplot, we see that there are no strong associations between sugar content and the popularity for different candies. Among the chocolate and fruity groups, there were slight positive associations between sugar content and popularity, while there was a little to no association between sugar content and popularity in the \"Other\" category. This makes sense given that many of the treats in the \"Other\" Category were not actually candy. Overall, this graph reflects the information we gleaned from the earlier boxplot visualizations; in general, the chocolate candies are seen to have higher popularity than the other treats.\n",
    "\n",
    "### _Associations between Price and Popularity_"
   ]
  },
  {
   "cell_type": "code",
   "execution_count": null,
   "metadata": {},
   "outputs": [],
   "source": [
    "options(repr.plot.width = 5, repr.plot.height = 3, repr.plot.res = 300)\n",
    "p2 = ggplot(df_candy2, aes(x = pricepercent, y = winpercent, color=type)) + \n",
    "        geom_point(alpha=0.7) + geom_smooth(method = \"lm\", se = FALSE, size=.5)\n",
    "p2 = p2 + ggtitle('Associations between Price and Popularity') \n",
    "\n",
    "p2 = p2 + labs(x= 'Price', y= 'Popularity')\n",
    "\n",
    "p2 = p2 + theme(axis.text = element_text(size=8, colour=\"gray3\"), \n",
    "              axis.title.y = element_text(colour = \"black\"), \n",
    "              axis.ticks = element_blank(),\n",
    "              plot.title = element_text(colour=\"black\", size=10),\n",
    "              panel.grid.minor=element_line(size=.1, colour=\"lightgray\"),\n",
    "              panel.grid.major=element_line(size=.2, colour=\"gray\"),\n",
    "              plot.margin = margin(5, 5, 5, 5, \"mm\"),\n",
    "              panel.background = element_rect(fill = \"white\",  size = 1, linetype = \"solid\"))\n",
    "\n",
    "p2 = p2 + scale_color_brewer(palette=\"Set2\")\n",
    "p2"
   ]
  },
  {
   "cell_type": "markdown",
   "metadata": {},
   "source": [
    "In this scatterplot, we see slight positive associations between price and popularity for the Chocolate candies and the \"Other\" treats, while there is a slightly negative association among the Fruity candies. However, these trends were not very strong. Overall, the plot reflects our earlier findings of chocolate candies being generally more expensive than other treats. "
   ]
  }
 ],
 "metadata": {
  "kernelspec": {
   "display_name": "R",
   "language": "R",
   "name": "ir"
  },
  "language_info": {
   "codemirror_mode": "r",
   "file_extension": ".r",
   "mimetype": "text/x-r-source",
   "name": "R",
   "pygments_lexer": "r",
   "version": "4.0.0"
  }
 },
 "nbformat": 4,
 "nbformat_minor": 4
}
